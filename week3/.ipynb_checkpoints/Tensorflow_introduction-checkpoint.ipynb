{
 "cells": [
  {
   "cell_type": "markdown",
   "metadata": {
    "id": "B8dU58Upz_dk"
   },
   "source": [
    "# Tensorflow_introduction\n",
    "Chào mừng bạn đến với bài tập lập trình của tuần này! Từ trước đến nay, bạn luôn sử dụng Numpy để xây dựng mạng nơ-ron, nhưng tuần này, bạn sẽ khám phá một khung học sâu cho phép bạn xây dựng mạng nơ-ron dễ dàng hơn. Các khung công tác máy học như TensorFlow, PaddlePaddle, Torch, Caffe, Keras và nhiều khung công tác khác có thể tăng tốc độ phát triển máy học của bạn một cách đáng kể. TensorFlow 2.3 đã có những cải tiến đáng kể so với người tiền nhiệm của nó, một số cải tiến mà bạn sẽ gặp phải và triển khai tại đây!\n",
    "\n",
    "Khi kết thúc nhiệm vụ này, bạn sẽ có thể thực hiện những việc sau trong TensorFlow 2.3:\n",
    "\n",
    "* Sử dụng `tf.Variable` để sửa đổi trạng thái của một biến\n",
    "* Giải thích sự khác biệt giữa một biến và một hằng số\n",
    "* Áp dụng trình trang trí TensorFlow để tăng tốc mã\n",
    "* Đào tạo mạng thần kinh trên tập dữ liệu TensorFlow\n",
    "\n",
    "Các framework lập trình như TensorFlow không chỉ cắt giảm thời gian viết mã mà còn có thể thực hiện các tối ưu hóa để tăng tốc độ mã."
   ]
  },
  {
   "cell_type": "markdown",
   "metadata": {
    "id": "CxR_W8Wk1TKb"
   },
   "source": [
    "## Mục lục\n",
    "- [1- Packages](#1)\n",
    "    - [1.1 - Checking TensorFlow Version](#1-1)\n",
    "- [2 - Basic Optimization with GradientTape](#2)\n",
    "    - [2.1 - Linear Function](#2-1)\n",
    "        - [Exercise 1 - linear_function](#ex-1)\n",
    "    - [2.2 - Computing the Sigmoid](#2-2)\n",
    "        - [Exercise 2 - sigmoid](#ex-2)\n",
    "    - [2.3 - Using One Hot Encodings](#2-3)\n",
    "        - [Exercise 3 - one_hot_matrix](#ex-3)\n",
    "    - [2.4 - Initialize the Parameters](#2-4)\n",
    "        - [Exercise 4 - initialize_parameters](#ex-4)\n",
    "- [3 - Building Your First Neural Network in TensorFlow](#3)\n",
    "    - [3.1 - Implement Forward Propagation](#3-1)\n",
    "        - [Exercise 5 - forward_propagation](#ex-5)\n",
    "    - [3.2 Compute the Cost](#3-2)\n",
    "        - [Exercise 6 - compute_cost](#ex-6)\n",
    "    - [3.3 - Train the Model](#3-3)\n",
    "- [4 - Bibliography](#4)"
   ]
  },
  {
   "cell_type": "markdown",
   "metadata": {
    "id": "_0yfLUKQ1e5t"
   },
   "source": [
    "<a name='1'></a>\n",
    "## 1 - Packages"
   ]
  },
  {
   "cell_type": "code",
   "execution_count": null,
   "metadata": {
    "id": "Gk7lqoDU1E0M"
   },
   "outputs": [],
   "source": [
    "import h5py\n",
    "import numpy as np\n",
    "import tensorflow as tf\n",
    "import matplotlib.pyplot as plt\n",
    "from tensorflow.python.framework.ops import EagerTensor\n",
    "from tensorflow.python.ops.resource_variable_ops import ResourceVariable\n",
    "import time"
   ]
  },
  {
   "cell_type": "markdown",
   "metadata": {
    "id": "Wu_ZhO9i2AqO"
   },
   "source": [
    "<a name='1-1'></a>\n",
    "### 1.1 - Checking TensorFlow Version \n",
    "Bạn sẽ sử dụng v2.3 cho nhiệm vụ này, để có tốc độ và hiệu quả tối đa."
   ]
  },
  {
   "cell_type": "code",
   "execution_count": null,
   "metadata": {
    "colab": {
     "base_uri": "https://localhost:8080/",
     "height": 35
    },
    "id": "TDN_VjIK2DFm",
    "outputId": "bced27e8-29b6-412d-f6be-79a914c9dd89"
   },
   "outputs": [
    {
     "data": {
      "application/vnd.google.colaboratory.intrinsic+json": {
       "type": "string"
      },
      "text/plain": [
       "'2.4.1'"
      ]
     },
     "execution_count": 2,
     "metadata": {
      "tags": []
     },
     "output_type": "execute_result"
    }
   ],
   "source": [
    "tf.__version__"
   ]
  },
  {
   "cell_type": "markdown",
   "metadata": {
    "id": "1okxpXbw2aGc"
   },
   "source": [
    "<a name='2'></a>\n",
    "## 2 - Basic Optimization with GradientTape\n",
    "\n",
    "Vẻ đẹp của TensorFlow 2 nằm ở sự đơn giản của nó. Về cơ bản, tất cả những gì bạn cần làm là thực hiện truyền về phía trước thông qua một đồ thị tính toán. TensorFlow sẽ tính toán các dẫn xuất cho bạn, bằng cách di chuyển ngược lại qua biểu đồ được ghi bằng `GradientTape`. Tất cả những gì còn lại để bạn làm sau đó là chỉ định hàm chi phí và trình tối ưu hóa mà bạn muốn sử dụng!\n",
    "\n",
    "Khi viết một chương trình TensorFlow, đối tượng chính để sử dụng và chuyển đổi là `tf.Tensor`. Các tensor này tương đương với TensorFlow của mảng Numpy, tức là mảng đa chiều của một kiểu dữ liệu nhất định cũng chứa thông tin về đồ thị tính toán.\n",
    "\n",
    "Dưới đây, bạn sẽ sử dụng `tf.Variable` để lưu trữ trạng thái của các biến của bạn. Các biến chỉ có thể được tạo một lần vì giá trị ban đầu của nó xác định hình dạng và kiểu biến. Ngoài ra, đối số `dtype` trong` tf.Variable` có thể được đặt để cho phép dữ liệu được chuyển đổi sang kiểu đó. Nhưng nếu không có gì được chỉ định, hoặc kiểu dữ liệu sẽ được giữ nếu giá trị ban đầu là Tensor hoặc `convert_to_tensor` sẽ quyết định. Nói chung, tốt nhất là bạn nên chỉ định trực tiếp, vì vậy không có gì vi phạm!"
   ]
  },
  {
   "cell_type": "markdown",
   "metadata": {
    "id": "_C61xRAw2u4M"
   },
   "source": [
    "Tại đây, bạn sẽ gọi tập dữ liệu TensorFlow được tạo trên tệp HDF5, bạn có thể sử dụng tệp này thay cho mảng Numpy để lưu trữ tập dữ liệu của mình. Bạn có thể coi đây là một trình tạo dữ liệu TensorFlow!\n",
    "\n",
    "Bạn sẽ sử dụng tập dữ liệu Dấu tay, bao gồm các hình ảnh có hình dạng 64x64x3."
   ]
  },
  {
   "cell_type": "code",
   "execution_count": null,
   "metadata": {
    "id": "2EfeSNMF2GT3"
   },
   "outputs": [],
   "source": [
    "train_dataset = h5py.File('drive/MyDrive/datasets/train_signs.h5', \"r\")\n",
    "test_dataset = h5py.File('drive/MyDrive/datasets/test_signs.h5', \"r\")"
   ]
  },
  {
   "cell_type": "code",
   "execution_count": null,
   "metadata": {
    "id": "FqDKFJtb21Qk"
   },
   "outputs": [],
   "source": [
    "x_train = tf.data.Dataset.from_tensor_slices(train_dataset['train_set_x'])\n",
    "y_train = tf.data.Dataset.from_tensor_slices(train_dataset['train_set_y'])\n",
    "\n",
    "x_test = tf.data.Dataset.from_tensor_slices(test_dataset['test_set_x'])\n",
    "y_test = tf.data.Dataset.from_tensor_slices(test_dataset['test_set_y'])"
   ]
  },
  {
   "cell_type": "code",
   "execution_count": null,
   "metadata": {
    "colab": {
     "base_uri": "https://localhost:8080/"
    },
    "id": "T5VvSFD63hjr",
    "outputId": "3ca4f267-14eb-4b03-8acb-edbf34ef1eaa"
   },
   "outputs": [
    {
     "data": {
      "text/plain": [
       "tensorflow.python.data.ops.dataset_ops.TensorSliceDataset"
      ]
     },
     "execution_count": 5,
     "metadata": {
      "tags": []
     },
     "output_type": "execute_result"
    }
   ],
   "source": [
    "type(x_train)"
   ]
  },
  {
   "cell_type": "markdown",
   "metadata": {
    "id": "GvukGRz66hMH"
   },
   "source": [
    "Vì Tập dữ liệu TensorFlow là trình tạo, bạn không thể truy cập trực tiếp vào nội dung trừ khi bạn lặp lại chúng trong vòng lặp for hoặc bằng cách tạo trình lặp Python một cách rõ ràng bằng cách sử dụng `iter` và sử dụng\n",
    "các phần tử sử dụng `next`. Ngoài ra, bạn có thể kiểm tra `shape` và` dtype` của mỗi phần tử bằng cách sử dụng thuộc tính `element_spec`."
   ]
  },
  {
   "cell_type": "code",
   "execution_count": null,
   "metadata": {
    "colab": {
     "base_uri": "https://localhost:8080/"
    },
    "id": "OoASIQsm4_NZ",
    "outputId": "5804901c-3151-4bae-cca2-f7092e518f33"
   },
   "outputs": [
    {
     "name": "stdout",
     "output_type": "stream",
     "text": [
      "TensorSpec(shape=(), dtype=tf.int64, name=None)\n"
     ]
    }
   ],
   "source": [
    "print(y_train.element_spec)"
   ]
  },
  {
   "cell_type": "code",
   "execution_count": null,
   "metadata": {
    "colab": {
     "base_uri": "https://localhost:8080/"
    },
    "id": "UW76NhlR6s0D",
    "outputId": "c2e40472-a3ca-489b-b096-924812e42c68"
   },
   "outputs": [
    {
     "name": "stdout",
     "output_type": "stream",
     "text": [
      "tf.Tensor(\n",
      "[[[227 220 214]\n",
      "  [227 221 215]\n",
      "  [227 222 215]\n",
      "  ...\n",
      "  [232 230 224]\n",
      "  [231 229 222]\n",
      "  [230 229 221]]\n",
      "\n",
      " [[227 221 214]\n",
      "  [227 221 215]\n",
      "  [228 221 215]\n",
      "  ...\n",
      "  [232 230 224]\n",
      "  [231 229 222]\n",
      "  [231 229 221]]\n",
      "\n",
      " [[227 221 214]\n",
      "  [227 221 214]\n",
      "  [227 221 215]\n",
      "  ...\n",
      "  [232 230 224]\n",
      "  [231 229 223]\n",
      "  [230 229 221]]\n",
      "\n",
      " ...\n",
      "\n",
      " [[119  81  51]\n",
      "  [124  85  55]\n",
      "  [127  87  58]\n",
      "  ...\n",
      "  [210 211 211]\n",
      "  [211 212 210]\n",
      "  [210 211 210]]\n",
      "\n",
      " [[119  79  51]\n",
      "  [124  84  55]\n",
      "  [126  85  56]\n",
      "  ...\n",
      "  [210 211 210]\n",
      "  [210 211 210]\n",
      "  [209 210 209]]\n",
      "\n",
      " [[119  81  51]\n",
      "  [123  83  55]\n",
      "  [122  82  54]\n",
      "  ...\n",
      "  [209 210 210]\n",
      "  [209 210 209]\n",
      "  [208 209 209]]], shape=(64, 64, 3), dtype=uint8)\n"
     ]
    }
   ],
   "source": [
    "print(next(iter(x_train)))"
   ]
  },
  {
   "cell_type": "code",
   "execution_count": null,
   "metadata": {
    "colab": {
     "base_uri": "https://localhost:8080/"
    },
    "id": "ginyslti6ygQ",
    "outputId": "1b64f617-5bce-4e29-c56d-22c8a9820209"
   },
   "outputs": [
    {
     "name": "stdout",
     "output_type": "stream",
     "text": [
      "tf.Tensor(\n",
      "[[[227 220 214]\n",
      "  [227 221 215]\n",
      "  [227 222 215]\n",
      "  ...\n",
      "  [232 230 224]\n",
      "  [231 229 222]\n",
      "  [230 229 221]]\n",
      "\n",
      " [[227 221 214]\n",
      "  [227 221 215]\n",
      "  [228 221 215]\n",
      "  ...\n",
      "  [232 230 224]\n",
      "  [231 229 222]\n",
      "  [231 229 221]]\n",
      "\n",
      " [[227 221 214]\n",
      "  [227 221 214]\n",
      "  [227 221 215]\n",
      "  ...\n",
      "  [232 230 224]\n",
      "  [231 229 223]\n",
      "  [230 229 221]]\n",
      "\n",
      " ...\n",
      "\n",
      " [[119  81  51]\n",
      "  [124  85  55]\n",
      "  [127  87  58]\n",
      "  ...\n",
      "  [210 211 211]\n",
      "  [211 212 210]\n",
      "  [210 211 210]]\n",
      "\n",
      " [[119  79  51]\n",
      "  [124  84  55]\n",
      "  [126  85  56]\n",
      "  ...\n",
      "  [210 211 210]\n",
      "  [210 211 210]\n",
      "  [209 210 209]]\n",
      "\n",
      " [[119  81  51]\n",
      "  [123  83  55]\n",
      "  [122  82  54]\n",
      "  ...\n",
      "  [209 210 210]\n",
      "  [209 210 209]\n",
      "  [208 209 209]]], shape=(64, 64, 3), dtype=uint8)\n"
     ]
    }
   ],
   "source": [
    "for element in x_train:\n",
    "    print(element)\n",
    "    break"
   ]
  },
  {
   "cell_type": "markdown",
   "metadata": {
    "id": "RV0an3As67pz"
   },
   "source": [
    "Có một sự khác biệt bổ sung giữa tập dữ liệu TensorFlow và mảng Numpy: Nếu bạn cần biến đổi một, bạn sẽ gọi phương thức `map` để áp dụng hàm được truyền dưới dạng đối số cho mỗi phần tử."
   ]
  },
  {
   "cell_type": "code",
   "execution_count": null,
   "metadata": {
    "id": "sFNzLnC_61Zj"
   },
   "outputs": [],
   "source": [
    "def normalize(image):\n",
    "    \"\"\"\n",
    "    Transform an image into a tensor of shape (64 * 64 * 3, 1)\n",
    "    and normalize its components.\n",
    "    \n",
    "    Arguments\n",
    "    image - Tensor.\n",
    "    \n",
    "    Returns: \n",
    "    result -- Transformed tensor \n",
    "    \"\"\"\n",
    "    image = tf.cast(image, tf.float32) / 256.0\n",
    "    image = tf.reshape(image, [-1,1])\n",
    "    return image"
   ]
  },
  {
   "cell_type": "code",
   "execution_count": null,
   "metadata": {
    "id": "TeOZAzVK7As9"
   },
   "outputs": [],
   "source": [
    "new_train = x_train.map(normalize)\n",
    "new_test = x_test.map(normalize)"
   ]
  },
  {
   "cell_type": "code",
   "execution_count": null,
   "metadata": {
    "colab": {
     "base_uri": "https://localhost:8080/"
    },
    "id": "9JZ_k4xF7JEk",
    "outputId": "2da7fb2f-df65-4c77-b6ad-915e76f57c00"
   },
   "outputs": [
    {
     "data": {
      "text/plain": [
       "TensorSpec(shape=(12288, 1), dtype=tf.float32, name=None)"
      ]
     },
     "execution_count": 11,
     "metadata": {
      "tags": []
     },
     "output_type": "execute_result"
    }
   ],
   "source": [
    "new_train.element_spec"
   ]
  },
  {
   "cell_type": "code",
   "execution_count": null,
   "metadata": {
    "colab": {
     "base_uri": "https://localhost:8080/"
    },
    "id": "fOr1AAQ_7Kvu",
    "outputId": "b93db498-2baf-4d23-c24a-b8e2c5a8632a"
   },
   "outputs": [
    {
     "data": {
      "text/plain": [
       "TensorSpec(shape=(12288, 1), dtype=tf.float32, name=None)"
      ]
     },
     "execution_count": 12,
     "metadata": {
      "tags": []
     },
     "output_type": "execute_result"
    }
   ],
   "source": [
    "new_train.element_spec"
   ]
  },
  {
   "cell_type": "markdown",
   "metadata": {
    "id": "kLEi3TZV7VW6"
   },
   "source": [
    "<a name='2-1'></a>\n",
    "### 2.1 - Linear Function\n",
    "Hãy bắt đầu bài tập lập trình này bằng cách tính phương trình sau: $ Y = WX + b $, trong đó $ W $ và $ X $ là các ma trận ngẫu nhiên và b là một vectơ ngẫu nhiên.\n",
    "\n",
    "<a name='ex-1'></a>\n",
    "### Exercise 1 - linear_function\n",
    "Tính $ WX + b $ trong đó $ W, X $ và $ b $ được rút ra từ phân phối chuẩn ngẫu nhiên. W có dạng (4, 3), X là (3,1) và b là (4,1). Ví dụ, đây là cách xác định hằng số X với hình dạng (3,1):\n",
    "```python\n",
    "X = tf.constant (np.random.randn (3,1), name = \"X\")\n",
    "\n",
    "```\n",
    "Lưu ý rằng sự khác biệt giữa `tf.constant` và` tf.Variable` là bạn có thể sửa đổi trạng thái của một `tf.Variable` nhưng không thể thay đổi trạng thái của` tf.constant`.\n",
    "\n",
    "Bạn có thể thấy các chức năng sau hữu ích:\n",
    "- tf.matmul (..., ...) để thực hiện phép nhân ma trận\n",
    "- tf.add (..., ...) để thực hiện phép cộng\n",
    "- np.random.randn (...) để khởi tạo ngẫu nhiên"
   ]
  },
  {
   "cell_type": "code",
   "execution_count": null,
   "metadata": {
    "id": "NxWdcdzu7MlG"
   },
   "outputs": [],
   "source": [
    "# GRADED FUNCTION: linear_function\n",
    "\n",
    "def linear_function():\n",
    "    \"\"\"\n",
    "    Implements a linear function: \n",
    "            Initializes X to be a random tensor of shape (3,1)\n",
    "            Initializes W to be a random tensor of shape (4,3)\n",
    "            Initializes b to be a random tensor of shape (4,1)\n",
    "    Returns: \n",
    "    result -- Y = WX + b \n",
    "    \"\"\"\n",
    "\n",
    "    np.random.seed(1)\n",
    "    \n",
    "    \"\"\"\n",
    "    Note, to ensure that the \"random\" numbers generated match the expected results,\n",
    "    please create the variables in the order given in the starting code below.\n",
    "    (Do not re-arrange the order).\n",
    "    \"\"\"\n",
    "    # (approx. 4 lines)\n",
    "    X = tf.constant(np.random.randn(3,1), name = \"X\")\n",
    "    W = tf.constant(np.random.randn(4,3), name = \"W\")\n",
    "    b = tf.constant(np.random.randn(4,1), name = \"b\")\n",
    "    Y = tf.add(tf.matmul(W,X),b)\n",
    "    # YOUR CODE STARTS HERE\n",
    "    \n",
    "    \n",
    "    # YOUR CODE ENDS HERE\n",
    "    return Y"
   ]
  },
  {
   "cell_type": "code",
   "execution_count": null,
   "metadata": {
    "colab": {
     "base_uri": "https://localhost:8080/"
    },
    "id": "bQqNwv_R8h6j",
    "outputId": "52b581fd-172d-4489-dd34-d98e80aaf186"
   },
   "outputs": [
    {
     "name": "stdout",
     "output_type": "stream",
     "text": [
      "tf.Tensor(\n",
      "[[-2.15657382]\n",
      " [ 2.95891446]\n",
      " [-1.08926781]\n",
      " [-0.84538042]], shape=(4, 1), dtype=float64)\n",
      "\u001b[92mAll test passed\n"
     ]
    }
   ],
   "source": [
    "result = linear_function()\n",
    "print(result)\n",
    "\n",
    "assert type(result) == EagerTensor, \"Use the TensorFlow API\"\n",
    "assert np.allclose(result, [[-2.15657382], [ 2.95891446], [-1.08926781], [-0.84538042]]), \"Error\"\n",
    "print(\"\\033[92mAll test passed\")"
   ]
  },
  {
   "cell_type": "markdown",
   "metadata": {
    "id": "LDIvQjDU8qt6"
   },
   "source": [
    "<a name='2-2'></a>\n",
    "### 2.2 - Computing the Sigmoid \n",
    "Kinh ngạc! Bạn vừa thực hiện một hàm tuyến tính. TensorFlow cung cấp nhiều chức năng mạng nơ-ron thường được sử dụng như `tf.sigmoid` và` tf.softmax`.\n",
    "\n",
    "Đối với bài tập này, hãy tính sigmoid của z.\n",
    "\n",
    "Trong bài tập này, bạn sẽ: Truyền tensor của bạn để nhập `float32` bằng cách sử dụng` tf.cast`, sau đó tính toán sigmoid bằng cách sử dụng `tf.keras.activations.sigmoid`.\n",
    "\n",
    "<a name='ex-2'></a>\n",
    "### Exercise 2 - sigmoid\n",
    "Thực hiện chức năng sigmoid dưới đây. Bạn nên sử dụng những thứ sau:\n",
    "\n",
    "- `tf.cast (\" ... \", tf.float32)`\n",
    "- `tf.keras.activations.sigmoid (\" ... \")`"
   ]
  },
  {
   "cell_type": "code",
   "execution_count": null,
   "metadata": {
    "id": "-Bvvsr5d8kVL"
   },
   "outputs": [],
   "source": [
    "# GRADED FUNCTION: sigmoid\n",
    "\n",
    "def sigmoid(z):\n",
    "    \n",
    "    \"\"\"\n",
    "    Computes the sigmoid of z\n",
    "    \n",
    "    Arguments:\n",
    "    z -- input value, scalar or vector\n",
    "    \n",
    "    Returns: \n",
    "    a -- (tf.float32) the sigmoid of z\n",
    "    \"\"\"\n",
    "    # tf.keras.activations.sigmoid requires float16, float32, float64, complex64, or complex128.\n",
    "    \n",
    "    # (approx. 2 lines)\n",
    "    z = tf.cast(z,tf.float32)\n",
    "    a = tf.keras.activations.sigmoid(z)\n",
    "    # YOUR CODE STARTS HERE\n",
    "    \n",
    "    \n",
    "    # YOUR CODE ENDS HERE\n",
    "    return a\n"
   ]
  },
  {
   "cell_type": "code",
   "execution_count": null,
   "metadata": {
    "colab": {
     "base_uri": "https://localhost:8080/"
    },
    "id": "Df8gZlAnl3wd",
    "outputId": "126d64ef-29ba-4ad5-df33-81e3c8ae9f44"
   },
   "outputs": [
    {
     "name": "stdout",
     "output_type": "stream",
     "text": [
      "type: <class 'tensorflow.python.framework.ops.EagerTensor'>\n",
      "dtype: <dtype: 'float32'>\n",
      "sigmoid(-1) = tf.Tensor(0.26894143, shape=(), dtype=float32)\n",
      "sigmoid(0) = tf.Tensor(0.5, shape=(), dtype=float32)\n",
      "sigmoid(12) = tf.Tensor(0.9999938, shape=(), dtype=float32)\n",
      "\u001b[92mAll test passed\n"
     ]
    }
   ],
   "source": [
    "result = sigmoid(-1)\n",
    "print (\"type: \" + str(type(result)))\n",
    "print (\"dtype: \" + str(result.dtype))\n",
    "print (\"sigmoid(-1) = \" + str(result))\n",
    "print (\"sigmoid(0) = \" + str(sigmoid(0.0)))\n",
    "print (\"sigmoid(12) = \" + str(sigmoid(12)))\n",
    "\n",
    "def sigmoid_test(target):\n",
    "    result = target(0)\n",
    "    assert(type(result) == EagerTensor)\n",
    "    assert (result.dtype == tf.float32)\n",
    "    assert sigmoid(0) == 0.5, \"Error\"\n",
    "    assert sigmoid(-1) == 0.26894143, \"Error\"\n",
    "    assert sigmoid(12) == 0.9999938, \"Error\"\n",
    "\n",
    "    print(\"\\033[92mAll test passed\")\n",
    "\n",
    "sigmoid_test(sigmoid)"
   ]
  },
  {
   "cell_type": "markdown",
   "metadata": {
    "id": "y4-eJqCTpT7a"
   },
   "source": [
    "<a name='2-3'></a>\n",
    "### 2.3 - Using One Hot Encodings\n",
    "Nhiều lần trong học sâu, bạn sẽ có một vector $ Y $ với các số từ $ 0 $ đến $ C-1 $, trong đó $ C $ là số lớp. Nếu $ C $ là ví dụ 4, thì bạn có thể có vectơ y sau đây mà bạn sẽ cần chuyển đổi như thế này:\n"
   ]
  },
  {
   "cell_type": "markdown",
   "metadata": {
    "id": "-IQ5lP00suMu"
   },
   "source": [
    "![onehot.png](data:image/png;base64,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)"
   ]
  },
  {
   "cell_type": "markdown",
   "metadata": {
    "id": "lGra--Nxs5v7"
   },
   "source": [
    "Đây được gọi là mã hóa \"một nóng\", bởi vì trong biểu diễn đã chuyển đổi, chính xác một phần tử của mỗi cột là \"nóng\" (nghĩa là được đặt thành 1). Để thực hiện chuyển đổi này trong numpy, bạn có thể phải viết một vài dòng mã. Trong TensorFlow, bạn có thể sử dụng một dòng mã:\n",
    "\n",
    "- [tf.one_hot(labels, depth, axis=0)](https://www.tensorflow.org/api_docs/python/tf/one_hot)\n",
    "\n",
    "`axis = 0` cho biết trục mới được tạo ở thứ nguyên 0\n",
    "<a name='ex-3'></a>\n",
    "### Exercise 3 - one_hot_matrix\n",
    "Thực hiện hàm dưới đây để lấy một nhãn và tổng số lớp $ C $, và trả về một mã hóa nóng trong ma trận cột khôn ngoan. Sử dụng `tf.one_hot ()` để thực hiện việc này và `tf.reshape ()` để định hình lại một tensor nóng của bạn!\n",
    "\n",
    "- `tf.reshape(tensor, shape)`\n"
   ]
  },
  {
   "cell_type": "code",
   "execution_count": null,
   "metadata": {
    "id": "TrRpd-Dwl6FE"
   },
   "outputs": [],
   "source": [
    "# GRADED FUNCTION: one_hot_matrix\n",
    "def one_hot_matrix(label, depth=6):\n",
    "    \"\"\"\n",
    "    Computes the one hot encoding for a single label\n",
    "    \n",
    "    Arguments:\n",
    "        label --  (int) Categorical labels\n",
    "        depth --  (int) Number of different classes that label can take\n",
    "    \n",
    "    Returns:\n",
    "         one_hot -- tf.Tensor A single-column matrix with the one hot encoding.\n",
    "    \"\"\"\n",
    "    # (approx. 1 line)\n",
    "    one_hot = tf.reshape(tf.one_hot(label, depth,\n",
    "           on_value=1.0, off_value=0.0,\n",
    "           axis=-1),[depth,-1])\n",
    "    # YOUR CODE STARTS HERE\n",
    "    \n",
    "    \n",
    "    # YOUR CODE ENDS HERE\n",
    "    return one_hot"
   ]
  },
  {
   "cell_type": "code",
   "execution_count": null,
   "metadata": {
    "colab": {
     "base_uri": "https://localhost:8080/"
    },
    "id": "vjsy3DrewAqT",
    "outputId": "c0c4d34e-1f40-410b-910d-974ed15e577c"
   },
   "outputs": [
    {
     "name": "stdout",
     "output_type": "stream",
     "text": [
      "tf.Tensor(\n",
      "[[0.]\n",
      " [1.]\n",
      " [0.]\n",
      " [0.]], shape=(4, 1), dtype=float32)\n",
      "\u001b[92mAll test passed\n"
     ]
    }
   ],
   "source": [
    "def one_hot_matrix_test(target):\n",
    "    label = tf.constant(1)\n",
    "    depth = 4\n",
    "    result = target(label, depth)\n",
    "    print(result)\n",
    "    assert result.shape[0] == depth, \"Use the parameter depth\"\n",
    "    assert result.shape[1] == 1, f\"Reshape to have only 1 column\"\n",
    "    assert np.allclose(result,  [[0.], [1.], [0.], [0.]] ), \"Wrong output. Use tf.one_hot\"\n",
    "    result = target(3, depth)\n",
    "    assert np.allclose(result, [[0.], [0.], [0.], [1.]] ), \"Wrong output. Use tf.one_hot\"\n",
    "    \n",
    "    print(\"\\033[92mAll test passed\")\n",
    "\n",
    "one_hot_matrix_test(one_hot_matrix)"
   ]
  },
  {
   "cell_type": "code",
   "execution_count": null,
   "metadata": {
    "id": "l8LT5FnJwCs-"
   },
   "outputs": [],
   "source": [
    "new_y_test = y_test.map(one_hot_matrix)\n",
    "new_y_train = y_train.map(one_hot_matrix)"
   ]
  },
  {
   "cell_type": "code",
   "execution_count": null,
   "metadata": {
    "colab": {
     "base_uri": "https://localhost:8080/"
    },
    "id": "zXL7ID7OwGV4",
    "outputId": "2d47f47b-7843-4362-a3ca-8db3ad47dd7d"
   },
   "outputs": [
    {
     "name": "stdout",
     "output_type": "stream",
     "text": [
      "tf.Tensor(\n",
      "[[1.]\n",
      " [0.]\n",
      " [0.]\n",
      " [0.]\n",
      " [0.]\n",
      " [0.]], shape=(6, 1), dtype=float32)\n"
     ]
    }
   ],
   "source": [
    "print(next(iter(new_y_test)))"
   ]
  },
  {
   "cell_type": "markdown",
   "metadata": {
    "id": "CmCc_X7RwRdu"
   },
   "source": [
    "<a name='2-4'></a>\n",
    "### 2.4 - Initialize the Parameters \n",
    "Bây giờ bạn sẽ khởi tạo một vectơ số từ 0 đến 1. Hàm bạn sẽ gọi là `tf.keras.initializers.GlorotNormal`, hàm này lấy các mẫu từ phân phối chuẩn bị cắt ngắn tập trung vào 0, với \n",
    " `stddev = sqrt(2 / (fan_in + fan_out))`trong đó `fan_in`là số lượng đơn vị đầu vào và `fan_out` là số lượng đơn vị đầu ra, cả hai đều nằm trong bộ căng khối lượng.\n",
    "\n",
    "Để khởi tạo bằng số không hoặc số không, bạn có thể sử dụng `tf.zeros ()` hoặc `tf.ones ()` để thay thế.\n"
   ]
  },
  {
   "cell_type": "markdown",
   "metadata": {
    "id": "f5069eyAw_X_"
   },
   "source": [
    "<a name='ex-4'></a>\n",
    "### Exercise 4 - initialize_parameters\n",
    "Triển khai hàm bên dưới để lấy hình dạng và trả về một mảng số từ -1 đến 1. \n",
    "- `tf.keras.initializers.Glorot_Normal (seed = 1)` \n",
    "- `tf.Variable (initializer(shape=())) `"
   ]
  },
  {
   "cell_type": "code",
   "execution_count": null,
   "metadata": {
    "id": "fj0RYXTuwKxv"
   },
   "outputs": [],
   "source": [
    "# GRADED FUNCTION: initialize_parameters\n",
    "\n",
    "def initialize_parameters():\n",
    "    \"\"\"\n",
    "    Initializes parameters to build a neural network with TensorFlow. The shapes are:\n",
    "                        W1 : [25, 12288]\n",
    "                        b1 : [25, 1]\n",
    "                        W2 : [12, 25]\n",
    "                        b2 : [12, 1]\n",
    "                        W3 : [6, 12]\n",
    "                        b3 : [6, 1]\n",
    "    \n",
    "    Returns:\n",
    "    parameters -- a dictionary of tensors containing W1, b1, W2, b2, W3, b3\n",
    "    \"\"\"\n",
    "                                \n",
    "    initializer = tf.keras.initializers.GlorotNormal(seed=1)   \n",
    "    #(approx. 6 lines of code)\n",
    "    W1 = tf.Variable(initializer(shape=(25,12288)))\n",
    "    b1 = tf.Variable(initializer(shape=(25,1)))\n",
    "    W2 = tf.Variable(initializer(shape=(12,25)))\n",
    "    b2 = tf.Variable(initializer(shape=(12,1)))\n",
    "    W3 = tf.Variable(initializer(shape=(6,12)))\n",
    "    b3 = tf.Variable(initializer(shape=(6,1)))\n",
    "    # YOUR CODE STARTS HERE\n",
    "    \n",
    "    \n",
    "    # YOUR CODE ENDS HERE\n",
    "\n",
    "    parameters = {\"W1\": W1,\n",
    "                  \"b1\": b1,\n",
    "                  \"W2\": W2,\n",
    "                  \"b2\": b2,\n",
    "                  \"W3\": W3,\n",
    "                  \"b3\": b3}\n",
    "    \n",
    "    return parameters"
   ]
  },
  {
   "cell_type": "code",
   "execution_count": null,
   "metadata": {
    "colab": {
     "base_uri": "https://localhost:8080/"
    },
    "id": "mI55YS47yAs9",
    "outputId": "f7d35842-7d13-4d91-e367-64ec4c84ed8c"
   },
   "outputs": [
    {
     "name": "stdout",
     "output_type": "stream",
     "text": [
      "W1 shape: (25, 12288)\n",
      "b1 shape: (25, 1)\n",
      "W2 shape: (12, 25)\n",
      "b2 shape: (12, 1)\n",
      "W3 shape: (6, 12)\n",
      "b3 shape: (6, 1)\n",
      "\u001b[92mAll test passed\n"
     ]
    }
   ],
   "source": [
    "def initialize_parameters_test(target):\n",
    "    parameters = target()\n",
    "\n",
    "    values = {\"W1\": (25, 12288),\n",
    "              \"b1\": (25, 1),\n",
    "              \"W2\": (12, 25),\n",
    "              \"b2\": (12, 1),\n",
    "              \"W3\": (6, 12),\n",
    "              \"b3\": (6, 1)}\n",
    "\n",
    "    for key in parameters:\n",
    "        print(f\"{key} shape: {tuple(parameters[key].shape)}\")\n",
    "        assert type(parameters[key]) == ResourceVariable, \"All parameter must be created using tf.Variable\"\n",
    "        assert tuple(parameters[key].shape) == values[key], f\"{key}: wrong shape\"\n",
    "        assert np.abs(np.mean(parameters[key].numpy())) < 0.5,  f\"{key}: Use the GlorotNormal initializer\"\n",
    "        assert np.std(parameters[key].numpy()) > 0 and np.std(parameters[key].numpy()) < 1, f\"{key}: Use the GlorotNormal initializer\"\n",
    "\n",
    "    print(\"\\033[92mAll test passed\")\n",
    "    \n",
    "initialize_parameters_test(initialize_parameters)"
   ]
  },
  {
   "cell_type": "code",
   "execution_count": null,
   "metadata": {
    "id": "nNkdAfB3yDQp"
   },
   "outputs": [],
   "source": [
    "parameters = initialize_parameters()"
   ]
  },
  {
   "cell_type": "markdown",
   "metadata": {
    "id": "HHyD_GqfyJI8"
   },
   "source": [
    "<a name='3'></a>\n",
    "## 3 - Building Your First Neural Network in TensorFlow\n",
    "Trong phần này của bài tập, bạn sẽ xây dựng một mạng nơ-ron bằng TensorFlow. Hãy nhớ rằng có hai phần để triển khai mô hình TensorFlow:\n",
    "\n",
    "- Thực hiện nhân giống thuận\n",
    "- Lấy các gradient và đào tạo mô hình\n",
    "\n",
    "Hãy vào đó!\n",
    "Một trong những điểm mạnh lớn của TensorFlow nằm ở chỗ bạn chỉ cần triển khai chức năng truyền tải về phía trước.\n",
    "\n",
    "Tại đây, bạn sẽ sử dụng trình trang trí TensorFlow, `@ tf. functions`, xây dựng một đồ thị tính toán để thực thi hàm. `@ tf. function` là đa hình, rất tiện dụng, vì nó có thể hỗ trợ các đối số với các kiểu dữ liệu hoặc hình dạng khác nhau và được sử dụng với các ngôn ngữ khác, chẳng hạn như Python. Điều này có nghĩa là bạn có thể sử dụng các câu lệnh luồng điều khiển phụ thuộc dữ liệu.\n",
    "\n",
    "Khi bạn sử dụng `@ tf. functions` để triển khai truyền tiến, biểu đồ tính toán được kích hoạt, biểu đồ này sẽ theo dõi các hoạt động. Điều này là do đó bạn có thể tính toán độ dốc của mình với sự lan truyền ngược.\n",
    "\n",
    "<a name='ex-5'></a>\n",
    "### Exercise 5 - forward_propagation\n",
    "Triển khai chức năng `forward_propagation`.\n",
    "\n",
    "**Lưu ý** :Chỉ sử dụng API TF.\n",
    "\n",
    "- tf.math.add\n",
    "- tf.linalg.matmul\n",
    "- tf.keras.activations.relu"
   ]
  },
  {
   "cell_type": "code",
   "execution_count": null,
   "metadata": {
    "id": "ezaOHn2RyFy0"
   },
   "outputs": [],
   "source": [
    "# GRADED FUNCTION: forward_propagation\n",
    "\n",
    "@tf.function\n",
    "def forward_propagation(X, parameters):\n",
    "    \"\"\"\n",
    "    Implements the forward propagation for the model: LINEAR -> RELU -> LINEAR -> RELU -> LINEAR\n",
    "    \n",
    "    Arguments:\n",
    "    X -- input dataset placeholder, of shape (input size, number of examples)\n",
    "    parameters -- python dictionary containing your parameters \"W1\", \"b1\", \"W2\", \"b2\", \"W3\", \"b3\"\n",
    "                  the shapes are given in initialize_parameters\n",
    "\n",
    "    Returns:\n",
    "    Z3 -- the output of the last LINEAR unit\n",
    "    \"\"\"\n",
    "    \n",
    "    # Retrieve the parameters from the dictionary \"parameters\" \n",
    "    W1 = parameters['W1']\n",
    "    b1 = parameters['b1']\n",
    "    W2 = parameters['W2']\n",
    "    b2 = parameters['b2']\n",
    "    W3 = parameters['W3']\n",
    "    b3 = parameters['b3']\n",
    "    \n",
    "    #(approx. 5 lines)                   # Numpy Equivalents:\n",
    "    Z1 = tf.math.add(tf.linalg.matmul(W1,X),b1)                           # Z1 = np.dot(W1, X) + b1\n",
    "    A1 = tf.keras.activations.relu(Z1)                          # A1 = relu(Z1)\n",
    "    Z2 = tf.math.add(tf.linalg.matmul(W2,A1),b2)                          # Z2 = np.dot(W2, A1) + b2\n",
    "    A2 = tf.keras.activations.relu(Z2)                          # A2 = relu(Z2)\n",
    "    Z3 = tf.math.add(tf.linalg.matmul(W3,A2),b3)                        # Z3 = np.dot(W3, A2) + b3\n",
    "    # YOUR CODE STARTS HERE\n",
    "    \n",
    "    \n",
    "    # YOUR CODE ENDS HERE\n",
    "    \n",
    "    return Z3"
   ]
  },
  {
   "cell_type": "code",
   "execution_count": null,
   "metadata": {
    "colab": {
     "base_uri": "https://localhost:8080/"
    },
    "id": "-YJok122zhzr",
    "outputId": "bbfee72d-1a76-4a5a-a99a-95bda4f86526"
   },
   "outputs": [
    {
     "name": "stdout",
     "output_type": "stream",
     "text": [
      "tf.Tensor(\n",
      "[[-0.1308217 ]\n",
      " [ 0.21228784]\n",
      " [ 0.7050023 ]\n",
      " [-1.1224039 ]\n",
      " [-0.2038672 ]\n",
      " [ 0.9526218 ]], shape=(6, 1), dtype=float32)\n",
      "\u001b[92mAll test passed\n"
     ]
    }
   ],
   "source": [
    "def forward_propagation_test(target, examples):\n",
    "    for batch in examples:\n",
    "        forward_pass = target(batch, parameters)\n",
    "        assert type(forward_pass) == EagerTensor, \"Your output is not a tensor\"\n",
    "        assert forward_pass.shape == (6, 1), \"Last layer must use W3 and b3\"\n",
    "        assert np.any(forward_pass < 0), \"Don't use a ReLu layer at end of your network\"\n",
    "        assert np.allclose(forward_pass, \n",
    "                           [[-0.13082162],\n",
    "                           [ 0.21228778],\n",
    "                           [ 0.7050022 ],\n",
    "                           [-1.1224034 ],\n",
    "                           [-0.20386729],\n",
    "                           [ 0.9526217 ]]), \"Output does not match\"\n",
    "        print(forward_pass)\n",
    "        break\n",
    "    \n",
    "\n",
    "    print(\"\\033[92mAll test passed\")\n",
    "\n",
    "forward_propagation_test(forward_propagation, new_train)"
   ]
  },
  {
   "cell_type": "markdown",
   "metadata": {
    "id": "OF-Hdp_SyIm_"
   },
   "source": [
    "<a name='3-2'></a>\n",
    "### 3.2 Compute the Cost\n",
    "Ở đây một lần nữa, trình trang trí `@ tf. Chức năng` thú vị bước vào và tiết kiệm thời gian cho bạn. Tất cả những gì bạn cần làm là chỉ định cách tính chi phí và bạn có thể làm như vậy trong một bước đơn giản bằng cách sử dụng:\n",
    "\n",
    "`tf.reduce_mean(tf.keras.losses.binary_crossentropy(y_true = ..., y_pred = ..., from_logits=True))`\n",
    "\n",
    "<a name='ex-6'></a>\n",
    "### Exercise 6 -  compute_cost\n",
    "Thực hiện hàm chi phí bên dưới.\n",
    "- Điều quan trọng cần lưu ý là đầu vào \"`y_pred`\" và \"`y_true`\" của [tf.keras.losses.binary_crossentropy](https://www.tensorflow.org/api_docs/python/tf/keras/lossesbinary_crossentropy) được mong đợi là có hình dạng (number of examples, num_classes). Vì cả biến vị và tenxơ ban đầu có cùng giá trị, chỉ khác thứ tự, nên kết quả tính toán binary_crossentropy sẽ giống nhau nếu bạn chuyển vị hoặc không chuyển vị logits và nhãn. Chỉ để tham khảo ở đây là cách tính toán binary_crossentropy trong TensorFlow:\n",
    "``mean_reduce(max(logits, 0) - logits * labels + log(1 + exp(-abs(logits))), axis=-1)``\n",
    "\n",
    "- `tf.reduce_mean`về cơ bản là tổng kết qua các ví dụ."
   ]
  },
  {
   "cell_type": "code",
   "execution_count": null,
   "metadata": {
    "id": "a05jzg2cz-qo"
   },
   "outputs": [],
   "source": [
    "# GRADED FUNCTION: compute_cost \n",
    "\n",
    "@tf.function\n",
    "def compute_cost(logits, labels):\n",
    "    \"\"\"\n",
    "    Computes the cost\n",
    "    \n",
    "    Arguments:\n",
    "    logits -- output of forward propagation (output of the last LINEAR unit), of shape (6, number of examples)\n",
    "    labels -- \"true\" labels vector, same shape as Z3\n",
    "    \n",
    "    Returns:\n",
    "    cost - Tensor of the cost function\n",
    "    \"\"\"\n",
    "    \n",
    "    #(1 line of code)\n",
    "    cost = tf.reduce_mean(tf.keras.losses.binary_crossentropy(y_true = labels, y_pred = logits,from_logits=True,label_smoothing=0))\n",
    "    # YOUR CODE STARTS HERE\n",
    "    \n",
    "    \n",
    "    # YOUR CODE ENDS HERE\n",
    "    return cost"
   ]
  },
  {
   "cell_type": "code",
   "execution_count": null,
   "metadata": {
    "colab": {
     "base_uri": "https://localhost:8080/"
    },
    "id": "p-sAFIxx1rKh",
    "outputId": "34784af2-d01d-4347-a166-422c29b22cf3"
   },
   "outputs": [
    {
     "name": "stdout",
     "output_type": "stream",
     "text": [
      "tf.Tensor(0.8419182681095857, shape=(), dtype=float64)\n",
      "\u001b[92mAll test passed\n"
     ]
    }
   ],
   "source": [
    "def compute_cost_test(target):\n",
    "    labels = np.array([[0.,1.], [0., 0.], [1., 0.]])\n",
    "    logits = np.array([[0.6, 0.4], [0.4, 0.6], [0.4, 0.6]])\n",
    "    result = compute_cost(logits, labels)\n",
    "    print(result)\n",
    "    assert(type(result) == EagerTensor), \"Use the TensorFlow API\"\n",
    "    assert (np.abs(result - (0.7752516 +  0.9752516 + 0.7752516) / 3.0) < 1e-7), \"Test does not match. Did you get the mean of your cost functions?\"\n",
    "\n",
    "    print(\"\\033[92mAll test passed\")\n",
    "\n",
    "compute_cost_test(compute_cost)"
   ]
  },
  {
   "cell_type": "markdown",
   "metadata": {
    "id": "S1JnWsV56861"
   },
   "source": [
    "### 3.3 - Train the Model\n",
    "Hãy nói chuyện về những người tối ưu hóa. Bạn sẽ chỉ định loại trình tối ưu hóa trong một dòng, trong trường hợp này là `tf.keras.optimizers.Adam` (mặc dù bạn có thể sử dụng các loại khác như SGD), rồi gọi nó trong vòng lặp đào tạo.\n",
    "\n",
    "Lưu ý đến chức năng `tape.gradient`: chức năng này cho phép bạn truy xuất các hoạt động được ghi lại để phân biệt tự động bên trong khối ` GradientTape`. Sau đó, gọi phương thức trình tối ưu hóa `apply_gradients`, sẽ áp dụng các quy tắc cập nhật của trình tối ưu hóa cho từng tham số có thể đào tạo. Vào cuối bài tập này, bạn sẽ tìm thấy một số tài liệu giải thích điều này chi tiết hơn, nhưng hiện tại, một lời giải thích đơn giản sẽ làm được. ;)\n",
    "\n",
    "\n",
    "Ở đây, bạn nên lưu ý một bước bổ sung quan trọng đã được thêm vào quy trình đào tạo hàng loạt:\n",
    "\n",
    "- `tf.Data.dataset = dataset.prefetch (8)`\n",
    "\n",
    "Điều này làm là ngăn chặn sự tắc nghẽn bộ nhớ có thể xảy ra khi đọc từ đĩa. `prefetch ()` dành một số dữ liệu và giữ cho nó sẵn sàng khi cần thiết. Nó thực hiện điều này bằng cách tạo tập dữ liệu nguồn từ dữ liệu đầu vào của bạn, áp dụng một phép chuyển đổi để xử lý trước dữ liệu, sau đó lặp qua tập dữ liệu với số lượng phần tử được chỉ định tại một thời điểm. Điều này hoạt động vì quá trình lặp đang truyền trực tuyến, vì vậy dữ liệu không cần phải vừa với bộ nhớ."
   ]
  },
  {
   "cell_type": "code",
   "execution_count": null,
   "metadata": {
    "id": "-1V_Gzy61s3L"
   },
   "outputs": [],
   "source": [
    "def model(X_train, Y_train, X_test, Y_test, learning_rate = 0.0001,\n",
    "          num_epochs = 1500, minibatch_size = 32, print_cost = True):\n",
    "    \"\"\"\n",
    "    Implements a three-layer tensorflow neural network: LINEAR->RELU->LINEAR->RELU->LINEAR->SOFTMAX.\n",
    "    \n",
    "    Arguments:\n",
    "    X_train -- training set, of shape (input size = 12288, number of training examples = 1080)\n",
    "    Y_train -- test set, of shape (output size = 6, number of training examples = 1080)\n",
    "    X_test -- training set, of shape (input size = 12288, number of training examples = 120)\n",
    "    Y_test -- test set, of shape (output size = 6, number of test examples = 120)\n",
    "    learning_rate -- learning rate of the optimization\n",
    "    num_epochs -- number of epochs of the optimization loop\n",
    "    minibatch_size -- size of a minibatch\n",
    "    print_cost -- True to print the cost every 100 epochs\n",
    "    \n",
    "    Returns:\n",
    "    parameters -- parameters learnt by the model. They can then be used to predict.\n",
    "    \"\"\"\n",
    "    \n",
    "    costs = []                                        # To keep track of the cost\n",
    "    \n",
    "    # Initialize your parameters\n",
    "    #(1 line)\n",
    "    parameters = initialize_parameters()\n",
    "\n",
    "    W1 = parameters['W1']\n",
    "    b1 = parameters['b1']\n",
    "    W2 = parameters['W2']\n",
    "    b2 = parameters['b2']\n",
    "    W3 = parameters['W3']\n",
    "    b3 = parameters['b3']\n",
    "\n",
    "    optimizer = tf.keras.optimizers.SGD(learning_rate)\n",
    "\n",
    "    X_train = X_train.batch(minibatch_size, drop_remainder=True).prefetch(8)# <<< extra step    \n",
    "    Y_train = Y_train.batch(minibatch_size, drop_remainder=True).prefetch(8) # loads memory faster \n",
    "\n",
    "    # Do the training loop\n",
    "    for epoch in range(num_epochs):\n",
    "\n",
    "        epoch_cost = 0.\n",
    "        \n",
    "        for (minibatch_X, minibatch_Y) in zip(X_train, Y_train):\n",
    "            # Select a minibatch\n",
    "            with tf.GradientTape() as tape:\n",
    "                # 1. predict\n",
    "                Z3 = forward_propagation(minibatch_X, parameters)\n",
    "                # 2. loss\n",
    "                minibatch_cost = compute_cost(Z3, minibatch_Y)\n",
    "                \n",
    "            trainable_variables = [W1, b1, W2, b2, W3, b3]\n",
    "            grads = tape.gradient(minibatch_cost, trainable_variables)\n",
    "            optimizer.apply_gradients(zip(grads, trainable_variables))\n",
    "            epoch_cost += minibatch_cost / minibatch_size\n",
    "\n",
    "        # Print the cost every epoch\n",
    "        if print_cost == True and epoch % 10 == 0:\n",
    "            print (\"Cost after epoch %i: %f\" % (epoch, epoch_cost))\n",
    "        if print_cost == True and epoch % 5 == 0:\n",
    "            costs.append(epoch_cost)\n",
    "\n",
    "    # Plot the cost\n",
    "    plt.plot(np.squeeze(costs))\n",
    "    plt.ylabel('cost')\n",
    "    plt.xlabel('iterations (per fives)')\n",
    "    plt.title(\"Learning rate =\" + str(learning_rate))\n",
    "    plt.show()\n",
    "\n",
    "    # Save the parameters in a variable\n",
    "    print (\"Parameters have been trained!\")\n",
    "\n",
    "    return parameters"
   ]
  },
  {
   "cell_type": "code",
   "execution_count": null,
   "metadata": {
    "colab": {
     "base_uri": "https://localhost:8080/",
     "height": 1000
    },
    "id": "jdCqBVnn7MgK",
    "outputId": "f889130f-e8e8-47d4-e93c-d245be410b2a"
   },
   "outputs": [
    {
     "name": "stdout",
     "output_type": "stream",
     "text": [
      "Cost after epoch 0: 0.742591\n",
      "Cost after epoch 10: 0.614557\n",
      "Cost after epoch 20: 0.598900\n",
      "Cost after epoch 30: 0.588907\n",
      "Cost after epoch 40: 0.579898\n",
      "Cost after epoch 50: 0.570628\n",
      "Cost after epoch 60: 0.560898\n",
      "Cost after epoch 70: 0.550808\n",
      "Cost after epoch 80: 0.540497\n",
      "Cost after epoch 90: 0.488141\n",
      "Cost after epoch 100: 0.478272\n",
      "Cost after epoch 110: 0.472865\n",
      "Cost after epoch 120: 0.468991\n",
      "Cost after epoch 130: 0.466015\n",
      "Cost after epoch 140: 0.463661\n",
      "Cost after epoch 150: 0.461677\n",
      "Cost after epoch 160: 0.459951\n",
      "Cost after epoch 170: 0.458392\n",
      "Cost after epoch 180: 0.456970\n",
      "Cost after epoch 190: 0.455647\n"
     ]
    },
    {
     "data": {
      "image/png": "[encoded data removed]",
      "text/plain": [
       "<Figure size 432x288 with 1 Axes>"
      ]
     },
     "metadata": {
      "needs_background": "light",
      "tags": []
     },
     "output_type": "display_data"
    },
    {
     "name": "stdout",
     "output_type": "stream",
     "text": [
      "Parameters have been trained!\n"
     ]
    },
    {
     "data": {
      "text/plain": [
       "{'W1': <tf.Variable 'Variable:0' shape=(25, 12288) dtype=float32, numpy=\n",
       " array([[ 0.00159522, -0.00737918,  0.00893291, ..., -0.01227797,\n",
       "          0.01642201,  0.00506484],\n",
       "        [ 0.02264025,  0.0067227 ,  0.00795862, ...,  0.00284724,\n",
       "          0.01910819,  0.00122853],\n",
       "        [-0.00173583, -0.00872451, -0.01410439, ..., -0.00733834,\n",
       "          0.02050859, -0.0268302 ],\n",
       "        ...,\n",
       "        [-0.00126929,  0.01729332,  0.02082342, ...,  0.01709594,\n",
       "          0.00429358, -0.00733263],\n",
       "        [ 0.00268257,  0.00410495,  0.00936706, ...,  0.01222281,\n",
       "         -0.02717606,  0.01498352],\n",
       "        [-0.00145541,  0.02459595,  0.00339064, ..., -0.02478788,\n",
       "          0.02716016, -0.00306428]], dtype=float32)>,\n",
       " 'W2': <tf.Variable 'Variable:0' shape=(12, 25) dtype=float32, numpy=\n",
       " array([[ 0.03270398, -0.13031   ,  0.16566683, -0.20850259, -0.2404858 ,\n",
       "         -0.10598166, -0.01016674,  0.12317106, -0.00411659, -0.3709333 ,\n",
       "          0.45312327, -0.3642326 ,  0.09766971,  0.18042909, -0.05753208,\n",
       "         -0.13796303, -0.04518652, -0.15597364, -0.00236228, -0.05681378,\n",
       "          0.07734591,  0.01733258, -0.04763132,  0.31054643,  0.18095495],\n",
       "        [ 0.27500606,  0.0652916 ,  0.19277133,  0.00808901, -0.3506106 ,\n",
       "         -0.04379589,  0.00529772,  0.14074522, -0.22700673, -0.08254708,\n",
       "         -0.10437232, -0.27877635, -0.22737738, -0.15467171, -0.30434558,\n",
       "          0.4284142 ,  0.04013086,  0.14082551,  0.4080341 ,  0.19127996,\n",
       "         -0.08289494,  0.19833343, -0.18854786,  0.11045365, -0.10293514],\n",
       "        [ 0.07370562,  0.12879197, -0.38048762, -0.1428371 , -0.16866724,\n",
       "         -0.12560502,  0.08047906, -0.1422233 , -0.32914424,  0.11487048,\n",
       "          0.21897405,  0.1428981 ,  0.4108542 , -0.02966296, -0.11487778,\n",
       "          0.28352287,  0.25715733, -0.12365948,  0.14695017, -0.39992067,\n",
       "         -0.11544652, -0.11918075, -0.5031594 , -0.16646984, -0.04636551],\n",
       "        [-0.11886354,  0.19529893, -0.13205235, -0.46206364,  0.07806109,\n",
       "         -0.36992034, -0.06379854,  0.3715831 ,  0.07556012,  0.51988   ,\n",
       "         -0.01714148,  0.35476214,  0.09361272,  0.17954445,  0.00514462,\n",
       "          0.04280851,  0.10517999,  0.03767022, -0.23309664, -0.23678231,\n",
       "         -0.07444265, -0.30713868, -0.11694648,  0.32925925, -0.09511968],\n",
       "        [ 0.15940417,  0.0393942 ,  0.47869277,  0.22657531,  0.03725046,\n",
       "         -0.51921755, -0.0173153 , -0.31578007, -0.21672027,  0.04122906,\n",
       "          0.04947521, -0.29094276, -0.03152777,  0.47902155,  0.31676555,\n",
       "          0.04739   ,  0.0777043 ,  0.31394583, -0.02500663,  0.10048122,\n",
       "         -0.05332499, -0.34107792, -0.13928486,  0.124021  , -0.41300818],\n",
       "        [-0.14994687,  0.03965308, -0.47870165, -0.07975383,  0.0975506 ,\n",
       "         -0.00232861, -0.26367775, -0.23967458,  0.2494654 ,  0.22969168,\n",
       "         -0.3077367 ,  0.1017215 ,  0.03053022,  0.26468748, -0.51858556,\n",
       "         -0.08669728,  0.03128891,  0.28504834,  0.20724736, -0.14461055,\n",
       "         -0.09631127,  0.2553377 ,  0.0313108 ,  0.28684515,  0.02228327],\n",
       "        [-0.20329641, -0.2922766 , -0.03024991,  0.00603078,  0.34428513,\n",
       "          0.14932795, -0.42723438,  0.07875892,  0.06157893, -0.19437577,\n",
       "          0.03054013, -0.20949648,  0.2890019 ,  0.03168807,  0.18291236,\n",
       "         -0.1762907 , -0.2162296 ,  0.02522451, -0.17976454,  0.20999095,\n",
       "          0.13074146,  0.12900151, -0.29620144,  0.39828372,  0.35581756],\n",
       "        [-0.08132942,  0.0508789 ,  0.03970909, -0.06884057, -0.07758211,\n",
       "          0.2122033 ,  0.16169944, -0.05766107, -0.04837854, -0.23052695,\n",
       "          0.2551639 , -0.2933403 , -0.16104451, -0.11232601, -0.1305835 ,\n",
       "          0.05021809,  0.18621859, -0.07786819,  0.10281897, -0.06372993,\n",
       "          0.41251048, -0.01803587,  0.04746069,  0.27628535, -0.21901166],\n",
       "        [ 0.28539088,  0.2062927 , -0.38372174,  0.26297212,  0.23504944,\n",
       "          0.18105377,  0.25501856, -0.19114958,  0.3558071 ,  0.00106932,\n",
       "         -0.33252394, -0.09722907, -0.00984806,  0.22310142, -0.22939922,\n",
       "         -0.02731948,  0.18572627, -0.00867934,  0.47467563,  0.00131025,\n",
       "          0.3148377 , -0.22662118,  0.12927507,  0.04265387, -0.45121887],\n",
       "        [-0.23054188, -0.22334962, -0.18913192,  0.15417176, -0.07368276,\n",
       "         -0.0554374 ,  0.12214173,  0.3880139 , -0.01242276,  0.11768965,\n",
       "          0.26777858, -0.06251994, -0.12100054, -0.12495217, -0.03189994,\n",
       "         -0.50085783, -0.09560107, -0.2402923 ,  0.07087833,  0.03642716,\n",
       "         -0.00494978, -0.36984688,  0.00878784,  0.24595839, -0.13239339],\n",
       "        [ 0.3191285 ,  0.02266271, -0.06669851, -0.33996752,  0.36436075,\n",
       "         -0.29865557, -0.0511701 , -0.3724362 ,  0.27359566,  0.20692119,\n",
       "          0.02171062,  0.10230298, -0.3980014 ,  0.02363082,  0.13089393,\n",
       "          0.33540612,  0.08214815,  0.20031555, -0.08127788, -0.28784147,\n",
       "          0.17327178, -0.13266881,  0.28894275, -0.19869862, -0.03405774],\n",
       "        [ 0.18820514, -0.20398362, -0.03503592, -0.36792815, -0.22963937,\n",
       "          0.23911734, -0.04237935, -0.0165515 , -0.05906205,  0.16423815,\n",
       "         -0.3201712 ,  0.15379828,  0.14842784, -0.24647985, -0.08833575,\n",
       "          0.13306315,  0.41101152,  0.3626319 ,  0.335514  ,  0.05405051,\n",
       "          0.21186371,  0.0197499 ,  0.45979315,  0.04402938,  0.36662805]],\n",
       "       dtype=float32)>,\n",
       " 'W3': <tf.Variable 'Variable:0' shape=(6, 12) dtype=float32, numpy=\n",
       " array([[ 0.04761663, -0.18691424,  0.23871914, -0.29910994, -0.3481434 ,\n",
       "         -0.14891662, -0.01468904,  0.17718892, -0.00528843, -0.53165394,\n",
       "          0.651227  , -0.52562135],\n",
       "        [ 0.14137168,  0.25856522, -0.08242729, -0.24897729, -0.086944  ,\n",
       "         -0.23124097, -0.00362752, -0.08165746,  0.108671  ,  0.02485008,\n",
       "         -0.10594466,  0.4071277 ],\n",
       "        [ 0.2588232 ,  0.39531502,  0.09260609,  0.19811381, -0.02675303,\n",
       "         -0.5141329 , -0.06277467,  0.0073774 ,  0.2010778 , -0.3234572 ,\n",
       "         -0.1716854 , -0.21085015],\n",
       "        [-0.39999744, -0.3245937 , -0.22211905, -0.4464757 ,  0.6061089 ,\n",
       "          0.06233858,  0.20539553,  0.5849541 ,  0.27438077, -0.1188482 ,\n",
       "          0.2764906 , -0.2822454 ],\n",
       "        [ 0.15867612, -0.14753208,  0.10718007,  0.20221178, -0.5397338 ,\n",
       "         -0.19613965, -0.24190295, -0.17912963,  0.1174304 , -0.20150405,\n",
       "         -0.45716155,  0.17953748],\n",
       "        [ 0.31372803,  0.20475909,  0.5910115 , -0.070414  , -0.17219493,\n",
       "          0.39685246,  0.37256533, -0.17371103,  0.20850411, -0.5733746 ,\n",
       "         -0.1864096 , -0.19104952]], dtype=float32)>,\n",
       " 'b1': <tf.Variable 'Variable:0' shape=(25, 1) dtype=float32, numpy=\n",
       " array([[ 0.03964256],\n",
       "        [-0.15545043],\n",
       "        [ 0.19885883],\n",
       "        [-0.24874453],\n",
       "        [-0.2867674 ],\n",
       "        [-0.12604605],\n",
       "        [-0.01213097],\n",
       "        [ 0.14784044],\n",
       "        [-0.0041317 ],\n",
       "        [-0.44089788],\n",
       "        [ 0.5405422 ],\n",
       "        [-0.43450323],\n",
       "        [ 0.1176388 ],\n",
       "        [ 0.21523888],\n",
       "        [-0.06772597],\n",
       "        [-0.16429298],\n",
       "        [-0.0525962 ],\n",
       "        [-0.18479516],\n",
       "        [-0.00280251],\n",
       "        [-0.06777475],\n",
       "        [ 0.09226809],\n",
       "        [ 0.02067652],\n",
       "        [-0.05682073],\n",
       "        [ 0.37065938],\n",
       "        [ 0.21586621]], dtype=float32)>,\n",
       " 'b2': <tf.Variable 'Variable:0' shape=(12, 1) dtype=float32, numpy=\n",
       " array([[ 0.05586328],\n",
       "        [-0.22080198],\n",
       "        [ 0.28016466],\n",
       "        [-0.35078028],\n",
       "        [-0.407107  ],\n",
       "        [-0.17678551],\n",
       "        [-0.01738933],\n",
       "        [ 0.20840582],\n",
       "        [-0.00978938],\n",
       "        [-0.6255955 ],\n",
       "        [ 0.7664691 ],\n",
       "        [-0.6127304 ]], dtype=float32)>,\n",
       " 'b3': <tf.Variable 'Variable:0' shape=(6, 1) dtype=float32, numpy=\n",
       " array([[ 0.07464747],\n",
       "        [-0.31648076],\n",
       "        [ 0.357774  ],\n",
       "        [-0.48544684],\n",
       "        [-0.5509958 ],\n",
       "        [-0.24964482]], dtype=float32)>}"
      ]
     },
     "execution_count": 37,
     "metadata": {
      "tags": []
     },
     "output_type": "execute_result"
    }
   ],
   "source": [
    "model(new_train, new_y_train, new_test, new_y_test, num_epochs=200)"
   ]
  },
  {
   "cell_type": "markdown",
   "metadata": {
    "id": "JzfAXdle7uE6"
   },
   "source": [
    "**Xin chúc mừng**! Bạn đã hoàn thành nhiệm vụ này và đến cuối tài liệu của tuần này. Công việc tuyệt vời khi xây dựng một mạng nơ-ron trong TensorFlow 2.3!\n",
    "\n",
    "Đây là bản tóm tắt nhanh về tất cả những gì bạn vừa đạt được:\n",
    "\n",
    "- Được sử dụng `tf.Variable` để sửa đổi các biến của bạn\n",
    "- Ứng dụng trang trí TensorFlow và quan sát cách họ tăng tốc mã của bạn\n",
    "- Được đào tạo về Mạng thần kinh trên tập dữ liệu TensorFlow\n",
    "\n",
    "Giờ đây, bạn có thể khai thác sức mạnh của đồ thị tính toán của TensorFlow để tạo ra những thứ thú vị, nhanh hơn. Đẹp!"
   ]
  },
  {
   "cell_type": "markdown",
   "metadata": {
    "id": "k_WVg0to71fp"
   },
   "source": [
    "<a name='4'></a>\n",
    "## 4 - Bibliography \n",
    "Trong bài tập này, bạn đã được giới thiệu về `tf.GradientTape`, nó ghi lại các thao tác để phân biệt. Dưới đây là một số tài nguyên để tìm hiểu sâu hơn về những gì nó hoạt động và tại sao:\n",
    "\n",
    "Giới thiệu về Gradients và phân biệt tự động:\n",
    "https://www.tensorflow.org/guide/autodiff\n",
    "\n",
    "Tài liệu GradientTape:\n",
    "https://www.tensorflow.org/api_docs/python/tf/GradientTape"
   ]
  }
 ],
 "metadata": {
  "accelerator": "GPU",
  "colab": {
   "name": "Tensorflow_introduction.ipynb",
   "provenance": [],
   "toc_visible": true
  },
  "kernelspec": {
   "display_name": "Python 3",
   "language": "python",
   "name": "python3"
  },
  "language_info": {
   "codemirror_mode": {
    "name": "ipython",
    "version": 3
   },
   "file_extension": ".py",
   "mimetype": "text/x-python",
   "name": "python",
   "nbconvert_exporter": "python",
   "pygments_lexer": "ipython3",
   "version": "3.8.5"
  }
 },
 "nbformat": 4,
 "nbformat_minor": 1
}
